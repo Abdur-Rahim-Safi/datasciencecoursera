{
 "cells": [
  {
   "cell_type": "code",
   "execution_count": 1,
   "id": "9c07e720",
   "metadata": {},
   "outputs": [
    {
     "ename": "NameError",
     "evalue": "name 'gdal_array' is not defined",
     "output_type": "error",
     "traceback": [
      "\u001b[1;31m---------------------------------------------------------------------------\u001b[0m",
      "\u001b[1;31mNameError\u001b[0m                                 Traceback (most recent call last)",
      "\u001b[1;32m<ipython-input-1-6093e8665af4>\u001b[0m in \u001b[0;36m<module>\u001b[1;34m\u001b[0m\n\u001b[0;32m     12\u001b[0m \u001b[0mpercentiles\u001b[0m \u001b[1;33m=\u001b[0m \u001b[1;33m[\u001b[0m\u001b[1;36m50\u001b[0m\u001b[1;33m,\u001b[0m \u001b[1;36m98\u001b[0m\u001b[1;33m]\u001b[0m \u001b[1;31m#Change\u001b[0m\u001b[1;33m\u001b[0m\u001b[1;33m\u001b[0m\u001b[0m\n\u001b[0;32m     13\u001b[0m \u001b[1;33m\u001b[0m\u001b[0m\n\u001b[1;32m---> 14\u001b[1;33m \u001b[0mrasterArray\u001b[0m \u001b[1;33m=\u001b[0m \u001b[0mgdal_array\u001b[0m\u001b[1;33m.\u001b[0m\u001b[0mLoadFile\u001b[0m\u001b[1;33m(\u001b[0m\u001b[0mrasterfile\u001b[0m\u001b[1;33m)\u001b[0m \u001b[1;31m#Read raster as numpy array\u001b[0m\u001b[1;33m\u001b[0m\u001b[1;33m\u001b[0m\u001b[0m\n\u001b[0m\u001b[0;32m     15\u001b[0m \u001b[1;33m\u001b[0m\u001b[0m\n\u001b[0;32m     16\u001b[0m \u001b[1;32mfor\u001b[0m \u001b[0mp\u001b[0m \u001b[1;32min\u001b[0m \u001b[0mpercentiles\u001b[0m\u001b[1;33m:\u001b[0m\u001b[1;33m\u001b[0m\u001b[1;33m\u001b[0m\u001b[0m\n",
      "\u001b[1;31mNameError\u001b[0m: name 'gdal_array' is not defined"
     ]
    }
   ],
   "source": [
    "import gdal\n",
    "#import glob\n",
    "#from osgeo import gdal_array\n",
    "import numpy as np\n",
    "\n",
    "rasterfile = r\"C:\\DATA\\eLEAF\\WaPOR\\Gezira\\Pojects\\Wheat - Copy\\AETI_1928TO2011.tif\" \n",
    "\n",
    "#Or replace line above with this, with the raster added to the map and activated by clicking on layer name:\n",
    "#layer = iface.activeLayer()\n",
    "#rasterfile = layer.source()\n",
    "\n",
    "percentiles = [50, 98] #Change\n",
    "\n",
    "rasterArray = gdal_array.LoadFile(rasterfile) #Read raster as numpy array\n",
    "\n",
    "for p in percentiles:\n",
    "    print('{0}th percentile is: {1}'.format(p, np.percentile(rasterArray,p)))"
   ]
  },
  {
   "cell_type": "code",
   "execution_count": null,
   "id": "5d797926",
   "metadata": {},
   "outputs": [],
   "source": []
  }
 ],
 "metadata": {
  "kernelspec": {
   "display_name": "Python 3",
   "language": "python",
   "name": "python3"
  },
  "language_info": {
   "codemirror_mode": {
    "name": "ipython",
    "version": 3
   },
   "file_extension": ".py",
   "mimetype": "text/x-python",
   "name": "python",
   "nbconvert_exporter": "python",
   "pygments_lexer": "ipython3",
   "version": "3.7.11"
  }
 },
 "nbformat": 4,
 "nbformat_minor": 5
}
